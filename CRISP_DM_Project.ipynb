{
  "nbformat": 4,
  "nbformat_minor": 0,
  "metadata": {
    "colab": {
      "name": "CRISP_DM_Project.ipynb",
      "provenance": [],
      "collapsed_sections": [],
      "mount_file_id": "1cWDY-H_pyQMz6Cv7SdbiAxvi8mFAX8g4",
      "authorship_tag": "ABX9TyMpaq8gAlib0/tBKg5B3/Dh",
      "include_colab_link": true
    },
    "kernelspec": {
      "name": "python3",
      "display_name": "Python 3"
    },
    "language_info": {
      "name": "python"
    }
  },
  "cells": [
    {
      "cell_type": "markdown",
      "metadata": {
        "id": "view-in-github",
        "colab_type": "text"
      },
      "source": [
        "<a href=\"https://colab.research.google.com/github/AybTGH/CRISP-DM/blob/main/CRISP_DM_Project.ipynb\" target=\"_parent\"><img src=\"https://colab.research.google.com/assets/colab-badge.svg\" alt=\"Open In Colab\"/></a>"
      ]
    },
    {
      "cell_type": "code",
      "execution_count": 1,
      "metadata": {
        "colab": {
          "base_uri": "https://localhost:8080/",
          "height": 206
        },
        "id": "ortFXPs-tE2Z",
        "outputId": "e4bf7763-0d63-4ca7-c25d-14ffce8193b3"
      },
      "outputs": [
        {
          "output_type": "execute_result",
          "data": {
            "text/plain": [
              "   pos                                                  g  \\\n",
              "1  P1V  [-0.16512878645751894, 0.04998307178737588, -0...   \n",
              "2  P1H  [-0.042161579465260245, 0.021362479328271962, ...   \n",
              "3  P2V  [-0.1349568120102025, 0.23669171459765884, 0.0...   \n",
              "4  P2A  [0.12349800107774804, 0.25274141834206476, 0.2...   \n",
              "5  P1V  [0.021572814759439424, 0.08107507627351192, 0....   \n",
              "\n",
              "                                                fftg  \\\n",
              "1  [0.0006586228415304686, 0.0008392442605411405,...   \n",
              "2  [0.0006843542482240162, 0.0008895457854118105,...   \n",
              "3  [0.0006736708035253035, 0.0008349143002841891,...   \n",
              "4  [0.0008922086829811786, 0.0012222498163517285,...   \n",
              "5  [0.0003683865447006467, 0.00046141507219113866...   \n",
              "\n",
              "                                                fftv       F     C  \n",
              "1  [0.0, 0.0, 0.0, 0.0, 0.0, 0.0, 0.2966064382657...  Normal  None  \n",
              "2  [0.0, 0.0, 0.0, 0.0, 0.0, 0.0, 0.4527706580487...  Normal  None  \n",
              "3  [0.0, 0.0, 0.0, 0.0, 0.0, 0.0, 0.3385470510031...  Normal  None  \n",
              "4  [0.0, 0.0, 0.0, 0.0, 0.0, 0.0, 0.5506433760599...  Normal  None  \n",
              "5  [0.0, 0.0, 0.0, 0.0, 0.0, 0.0, 0.2025792082014...  Normal  None  "
            ],
            "text/html": [
              "\n",
              "  <div id=\"df-421655c6-70e6-4f8e-baa5-ed52ba2741f6\">\n",
              "    <div class=\"colab-df-container\">\n",
              "      <div>\n",
              "<style scoped>\n",
              "    .dataframe tbody tr th:only-of-type {\n",
              "        vertical-align: middle;\n",
              "    }\n",
              "\n",
              "    .dataframe tbody tr th {\n",
              "        vertical-align: top;\n",
              "    }\n",
              "\n",
              "    .dataframe thead th {\n",
              "        text-align: right;\n",
              "    }\n",
              "</style>\n",
              "<table border=\"1\" class=\"dataframe\">\n",
              "  <thead>\n",
              "    <tr style=\"text-align: right;\">\n",
              "      <th></th>\n",
              "      <th>pos</th>\n",
              "      <th>g</th>\n",
              "      <th>fftg</th>\n",
              "      <th>fftv</th>\n",
              "      <th>F</th>\n",
              "      <th>C</th>\n",
              "    </tr>\n",
              "  </thead>\n",
              "  <tbody>\n",
              "    <tr>\n",
              "      <th>1</th>\n",
              "      <td>P1V</td>\n",
              "      <td>[-0.16512878645751894, 0.04998307178737588, -0...</td>\n",
              "      <td>[0.0006586228415304686, 0.0008392442605411405,...</td>\n",
              "      <td>[0.0, 0.0, 0.0, 0.0, 0.0, 0.0, 0.2966064382657...</td>\n",
              "      <td>Normal</td>\n",
              "      <td>None</td>\n",
              "    </tr>\n",
              "    <tr>\n",
              "      <th>2</th>\n",
              "      <td>P1H</td>\n",
              "      <td>[-0.042161579465260245, 0.021362479328271962, ...</td>\n",
              "      <td>[0.0006843542482240162, 0.0008895457854118105,...</td>\n",
              "      <td>[0.0, 0.0, 0.0, 0.0, 0.0, 0.0, 0.4527706580487...</td>\n",
              "      <td>Normal</td>\n",
              "      <td>None</td>\n",
              "    </tr>\n",
              "    <tr>\n",
              "      <th>3</th>\n",
              "      <td>P2V</td>\n",
              "      <td>[-0.1349568120102025, 0.23669171459765884, 0.0...</td>\n",
              "      <td>[0.0006736708035253035, 0.0008349143002841891,...</td>\n",
              "      <td>[0.0, 0.0, 0.0, 0.0, 0.0, 0.0, 0.3385470510031...</td>\n",
              "      <td>Normal</td>\n",
              "      <td>None</td>\n",
              "    </tr>\n",
              "    <tr>\n",
              "      <th>4</th>\n",
              "      <td>P2A</td>\n",
              "      <td>[0.12349800107774804, 0.25274141834206476, 0.2...</td>\n",
              "      <td>[0.0008922086829811786, 0.0012222498163517285,...</td>\n",
              "      <td>[0.0, 0.0, 0.0, 0.0, 0.0, 0.0, 0.5506433760599...</td>\n",
              "      <td>Normal</td>\n",
              "      <td>None</td>\n",
              "    </tr>\n",
              "    <tr>\n",
              "      <th>5</th>\n",
              "      <td>P1V</td>\n",
              "      <td>[0.021572814759439424, 0.08107507627351192, 0....</td>\n",
              "      <td>[0.0003683865447006467, 0.00046141507219113866...</td>\n",
              "      <td>[0.0, 0.0, 0.0, 0.0, 0.0, 0.0, 0.2025792082014...</td>\n",
              "      <td>Normal</td>\n",
              "      <td>None</td>\n",
              "    </tr>\n",
              "  </tbody>\n",
              "</table>\n",
              "</div>\n",
              "      <button class=\"colab-df-convert\" onclick=\"convertToInteractive('df-421655c6-70e6-4f8e-baa5-ed52ba2741f6')\"\n",
              "              title=\"Convert this dataframe to an interactive table.\"\n",
              "              style=\"display:none;\">\n",
              "        \n",
              "  <svg xmlns=\"http://www.w3.org/2000/svg\" height=\"24px\"viewBox=\"0 0 24 24\"\n",
              "       width=\"24px\">\n",
              "    <path d=\"M0 0h24v24H0V0z\" fill=\"none\"/>\n",
              "    <path d=\"M18.56 5.44l.94 2.06.94-2.06 2.06-.94-2.06-.94-.94-2.06-.94 2.06-2.06.94zm-11 1L8.5 8.5l.94-2.06 2.06-.94-2.06-.94L8.5 2.5l-.94 2.06-2.06.94zm10 10l.94 2.06.94-2.06 2.06-.94-2.06-.94-.94-2.06-.94 2.06-2.06.94z\"/><path d=\"M17.41 7.96l-1.37-1.37c-.4-.4-.92-.59-1.43-.59-.52 0-1.04.2-1.43.59L10.3 9.45l-7.72 7.72c-.78.78-.78 2.05 0 2.83L4 21.41c.39.39.9.59 1.41.59.51 0 1.02-.2 1.41-.59l7.78-7.78 2.81-2.81c.8-.78.8-2.07 0-2.86zM5.41 20L4 18.59l7.72-7.72 1.47 1.35L5.41 20z\"/>\n",
              "  </svg>\n",
              "      </button>\n",
              "      \n",
              "  <style>\n",
              "    .colab-df-container {\n",
              "      display:flex;\n",
              "      flex-wrap:wrap;\n",
              "      gap: 12px;\n",
              "    }\n",
              "\n",
              "    .colab-df-convert {\n",
              "      background-color: #E8F0FE;\n",
              "      border: none;\n",
              "      border-radius: 50%;\n",
              "      cursor: pointer;\n",
              "      display: none;\n",
              "      fill: #1967D2;\n",
              "      height: 32px;\n",
              "      padding: 0 0 0 0;\n",
              "      width: 32px;\n",
              "    }\n",
              "\n",
              "    .colab-df-convert:hover {\n",
              "      background-color: #E2EBFA;\n",
              "      box-shadow: 0px 1px 2px rgba(60, 64, 67, 0.3), 0px 1px 3px 1px rgba(60, 64, 67, 0.15);\n",
              "      fill: #174EA6;\n",
              "    }\n",
              "\n",
              "    [theme=dark] .colab-df-convert {\n",
              "      background-color: #3B4455;\n",
              "      fill: #D2E3FC;\n",
              "    }\n",
              "\n",
              "    [theme=dark] .colab-df-convert:hover {\n",
              "      background-color: #434B5C;\n",
              "      box-shadow: 0px 1px 3px 1px rgba(0, 0, 0, 0.15);\n",
              "      filter: drop-shadow(0px 1px 2px rgba(0, 0, 0, 0.3));\n",
              "      fill: #FFFFFF;\n",
              "    }\n",
              "  </style>\n",
              "\n",
              "      <script>\n",
              "        const buttonEl =\n",
              "          document.querySelector('#df-421655c6-70e6-4f8e-baa5-ed52ba2741f6 button.colab-df-convert');\n",
              "        buttonEl.style.display =\n",
              "          google.colab.kernel.accessAllowed ? 'block' : 'none';\n",
              "\n",
              "        async function convertToInteractive(key) {\n",
              "          const element = document.querySelector('#df-421655c6-70e6-4f8e-baa5-ed52ba2741f6');\n",
              "          const dataTable =\n",
              "            await google.colab.kernel.invokeFunction('convertToInteractive',\n",
              "                                                     [key], {});\n",
              "          if (!dataTable) return;\n",
              "\n",
              "          const docLinkHtml = 'Like what you see? Visit the ' +\n",
              "            '<a target=\"_blank\" href=https://colab.research.google.com/notebooks/data_table.ipynb>data table notebook</a>'\n",
              "            + ' to learn more about interactive tables.';\n",
              "          element.innerHTML = '';\n",
              "          dataTable['output_type'] = 'display_data';\n",
              "          await google.colab.output.renderOutput(dataTable, element);\n",
              "          const docLink = document.createElement('div');\n",
              "          docLink.innerHTML = docLinkHtml;\n",
              "          element.appendChild(docLink);\n",
              "        }\n",
              "      </script>\n",
              "    </div>\n",
              "  </div>\n",
              "  "
            ]
          },
          "metadata": {},
          "execution_count": 1
        }
      ],
      "source": [
        "#import data\n",
        "import pandas as pd\n",
        "file = pd.read_csv('/content/drive/MyDrive/ML/vibration_dataset_light.csv',index_col=0)\n",
        "file.head()"
      ]
    },
    {
      "cell_type": "code",
      "source": [
        "file.shape"
      ],
      "metadata": {
        "colab": {
          "base_uri": "https://localhost:8080/"
        },
        "id": "vVHqDXGuloDD",
        "outputId": "97f83151-1b41-4222-866b-b7840e10aef3"
      },
      "execution_count": 2,
      "outputs": [
        {
          "output_type": "execute_result",
          "data": {
            "text/plain": [
              "(1020, 6)"
            ]
          },
          "metadata": {},
          "execution_count": 2
        }
      ]
    },
    {
      "cell_type": "code",
      "source": [
        "file.columns"
      ],
      "metadata": {
        "colab": {
          "base_uri": "https://localhost:8080/"
        },
        "id": "zGZsAYz-sG9F",
        "outputId": "101eb67a-d699-4d2a-f4c3-4380892eddc2"
      },
      "execution_count": 3,
      "outputs": [
        {
          "output_type": "execute_result",
          "data": {
            "text/plain": [
              "Index(['pos', 'g', 'fftg', 'fftv', 'F', 'C'], dtype='object')"
            ]
          },
          "metadata": {},
          "execution_count": 3
        }
      ]
    },
    {
      "cell_type": "code",
      "source": [
        "file.info()"
      ],
      "metadata": {
        "colab": {
          "base_uri": "https://localhost:8080/"
        },
        "id": "UjL3m0FGsNTE",
        "outputId": "2f098dc6-92e2-42b7-9f81-84057b1c0f79"
      },
      "execution_count": 4,
      "outputs": [
        {
          "output_type": "stream",
          "name": "stdout",
          "text": [
            "<class 'pandas.core.frame.DataFrame'>\n",
            "Int64Index: 1020 entries, 1 to 1020\n",
            "Data columns (total 6 columns):\n",
            " #   Column  Non-Null Count  Dtype \n",
            "---  ------  --------------  ----- \n",
            " 0   pos     1020 non-null   object\n",
            " 1   g       1020 non-null   object\n",
            " 2   fftg    1020 non-null   object\n",
            " 3   fftv    1020 non-null   object\n",
            " 4   F       1020 non-null   object\n",
            " 5   C       1020 non-null   object\n",
            "dtypes: object(6)\n",
            "memory usage: 55.8+ KB\n"
          ]
        }
      ]
    },
    {
      "cell_type": "code",
      "source": [
        "file['F'].unique()"
      ],
      "metadata": {
        "colab": {
          "base_uri": "https://localhost:8080/"
        },
        "id": "yNgMG7GUx9px",
        "outputId": "7d173734-6b43-436c-8c38-4f131fa2819f"
      },
      "execution_count": 5,
      "outputs": [
        {
          "output_type": "execute_result",
          "data": {
            "text/plain": [
              "array(['Normal', 'Bearing Lubrification Fault', 'Gear fault', 'Imbalance',\n",
              "       'Mechanical looseness', 'Misalignment', 'Structural Fault'],\n",
              "      dtype=object)"
            ]
          },
          "metadata": {},
          "execution_count": 5
        }
      ]
    },
    {
      "cell_type": "code",
      "source": [
        "file['C'].unique()"
      ],
      "metadata": {
        "colab": {
          "base_uri": "https://localhost:8080/"
        },
        "id": "_fVKXXyCz_Ft",
        "outputId": "3465fce3-4563-4713-f267-d8a995e30c9a"
      },
      "execution_count": 6,
      "outputs": [
        {
          "output_type": "execute_result",
          "data": {
            "text/plain": [
              "array(['None', 'Lubrification', 'Gear', 'Rotor', 'Loosness', 'Link',\n",
              "       'Frame'], dtype=object)"
            ]
          },
          "metadata": {},
          "execution_count": 6
        }
      ]
    },
    {
      "cell_type": "markdown",
      "source": [
        "**Meaning of the columns**\n",
        "\n",
        "> pos: Sensor positions in vibration-based condition monitoring.\n",
        "\n",
        "> g: numeric informations about the waveform.\n",
        "\n",
        "> FFT: Fourier analysis works by “testing” for the presence of each frequency component.  A discrete Fourier transform (DFT) multiplies the raw waveform by sine waves of discrete frequencies to determine if they match and what their corresponding amplitude and phase are.  A fast Fourier transform (FFT) is just a DFT using a more efficient algorithm that takes advantage of the symmetry in sine waves.  The FFT requires a signal length of some power of two for the transform and splits the process into cascading groups of 2 to exploit these symmetries.  This dramatically improves processing speed; if N is the length of the signal, a DFT needs N2 operations while a FFT needs N*log2(N).\n",
        "\n",
        "> F: specifies the kind of abnormal state\n",
        "\n",
        "> C: Mode to be checked\n",
        "\n",
        "\n",
        "\n"
      ],
      "metadata": {
        "id": "uKGZRUDZsa6Z"
      }
    },
    {
      "cell_type": "code",
      "source": [
        "file.dtypes"
      ],
      "metadata": {
        "colab": {
          "base_uri": "https://localhost:8080/"
        },
        "id": "smg-fjRe3jUT",
        "outputId": "bace5aca-4243-4ba5-cb95-0d7e11445a8f"
      },
      "execution_count": 7,
      "outputs": [
        {
          "output_type": "execute_result",
          "data": {
            "text/plain": [
              "pos     object\n",
              "g       object\n",
              "fftg    object\n",
              "fftv    object\n",
              "F       object\n",
              "C       object\n",
              "dtype: object"
            ]
          },
          "metadata": {},
          "execution_count": 7
        }
      ]
    },
    {
      "cell_type": "code",
      "source": [
        "col = file[['g','fftg','fftv']]\n",
        "col"
      ],
      "metadata": {
        "colab": {
          "base_uri": "https://localhost:8080/",
          "height": 424
        },
        "id": "qtj58fY-vDLe",
        "outputId": "35d1026e-6210-4be3-bce3-760975522280"
      },
      "execution_count": 8,
      "outputs": [
        {
          "output_type": "execute_result",
          "data": {
            "text/plain": [
              "                                                      g  \\\n",
              "1     [-0.16512878645751894, 0.04998307178737588, -0...   \n",
              "2     [-0.042161579465260245, 0.021362479328271962, ...   \n",
              "3     [-0.1349568120102025, 0.23669171459765884, 0.0...   \n",
              "4     [0.12349800107774804, 0.25274141834206476, 0.2...   \n",
              "5     [0.021572814759439424, 0.08107507627351192, 0....   \n",
              "...                                                 ...   \n",
              "1016  [-0.09399215470338836, -0.07581700666718469, -...   \n",
              "1017  [0.12178146241731114, 0.11189611167124339, 0.1...   \n",
              "1018  [-0.14434849756242168, -0.12369798626506422, -...   \n",
              "1019  [0.12246373280600302, -0.022959302450522835, 0...   \n",
              "1020  [-0.07430872110544118, -0.0653438695066067, -0...   \n",
              "\n",
              "                                                   fftg  \\\n",
              "1     [0.0006586228415304686, 0.0008392442605411405,...   \n",
              "2     [0.0006843542482240162, 0.0008895457854118105,...   \n",
              "3     [0.0006736708035253035, 0.0008349143002841891,...   \n",
              "4     [0.0008922086829811786, 0.0012222498163517285,...   \n",
              "5     [0.0003683865447006467, 0.00046141507219113866...   \n",
              "...                                                 ...   \n",
              "1016  [0.0013470897256730337, 0.0021139789812571366,...   \n",
              "1017  [0.001384099028685586, 0.0021601822551360617, ...   \n",
              "1018  [0.0013403005936539496, 0.002314003743353513, ...   \n",
              "1019  [0.001419439714691728, 0.002208483168563792, 0...   \n",
              "1020  [0.0013137535337891964, 0.0022039447807009104,...   \n",
              "\n",
              "                                                   fftv  \n",
              "1     [0.0, 0.0, 0.0, 0.0, 0.0, 0.0, 0.2966064382657...  \n",
              "2     [0.0, 0.0, 0.0, 0.0, 0.0, 0.0, 0.4527706580487...  \n",
              "3     [0.0, 0.0, 0.0, 0.0, 0.0, 0.0, 0.3385470510031...  \n",
              "4     [0.0, 0.0, 0.0, 0.0, 0.0, 0.0, 0.5506433760599...  \n",
              "5     [0.0, 0.0, 0.0, 0.0, 0.0, 0.0, 0.2025792082014...  \n",
              "...                                                 ...  \n",
              "1016  [0.0, 0.0, 0.0, 0.0, 0.0, 0.0, 0.3077497412413...  \n",
              "1017  [0.0, 0.0, 0.0, 0.0, 0.0, 0.0, 0.2299074484300...  \n",
              "1018  [0.0, 0.0, 0.0, 0.0, 0.0, 0.0, 0.2886976999185...  \n",
              "1019  [0.0, 0.0, 0.0, 0.0, 0.0, 0.0, 0.3068307509386...  \n",
              "1020  [0.0, 0.0, 0.0, 0.0, 0.0, 0.0, 0.2863782784721...  \n",
              "\n",
              "[1020 rows x 3 columns]"
            ],
            "text/html": [
              "\n",
              "  <div id=\"df-1dffb078-962f-4f0b-b06c-ae9b2d90cb2a\">\n",
              "    <div class=\"colab-df-container\">\n",
              "      <div>\n",
              "<style scoped>\n",
              "    .dataframe tbody tr th:only-of-type {\n",
              "        vertical-align: middle;\n",
              "    }\n",
              "\n",
              "    .dataframe tbody tr th {\n",
              "        vertical-align: top;\n",
              "    }\n",
              "\n",
              "    .dataframe thead th {\n",
              "        text-align: right;\n",
              "    }\n",
              "</style>\n",
              "<table border=\"1\" class=\"dataframe\">\n",
              "  <thead>\n",
              "    <tr style=\"text-align: right;\">\n",
              "      <th></th>\n",
              "      <th>g</th>\n",
              "      <th>fftg</th>\n",
              "      <th>fftv</th>\n",
              "    </tr>\n",
              "  </thead>\n",
              "  <tbody>\n",
              "    <tr>\n",
              "      <th>1</th>\n",
              "      <td>[-0.16512878645751894, 0.04998307178737588, -0...</td>\n",
              "      <td>[0.0006586228415304686, 0.0008392442605411405,...</td>\n",
              "      <td>[0.0, 0.0, 0.0, 0.0, 0.0, 0.0, 0.2966064382657...</td>\n",
              "    </tr>\n",
              "    <tr>\n",
              "      <th>2</th>\n",
              "      <td>[-0.042161579465260245, 0.021362479328271962, ...</td>\n",
              "      <td>[0.0006843542482240162, 0.0008895457854118105,...</td>\n",
              "      <td>[0.0, 0.0, 0.0, 0.0, 0.0, 0.0, 0.4527706580487...</td>\n",
              "    </tr>\n",
              "    <tr>\n",
              "      <th>3</th>\n",
              "      <td>[-0.1349568120102025, 0.23669171459765884, 0.0...</td>\n",
              "      <td>[0.0006736708035253035, 0.0008349143002841891,...</td>\n",
              "      <td>[0.0, 0.0, 0.0, 0.0, 0.0, 0.0, 0.3385470510031...</td>\n",
              "    </tr>\n",
              "    <tr>\n",
              "      <th>4</th>\n",
              "      <td>[0.12349800107774804, 0.25274141834206476, 0.2...</td>\n",
              "      <td>[0.0008922086829811786, 0.0012222498163517285,...</td>\n",
              "      <td>[0.0, 0.0, 0.0, 0.0, 0.0, 0.0, 0.5506433760599...</td>\n",
              "    </tr>\n",
              "    <tr>\n",
              "      <th>5</th>\n",
              "      <td>[0.021572814759439424, 0.08107507627351192, 0....</td>\n",
              "      <td>[0.0003683865447006467, 0.00046141507219113866...</td>\n",
              "      <td>[0.0, 0.0, 0.0, 0.0, 0.0, 0.0, 0.2025792082014...</td>\n",
              "    </tr>\n",
              "    <tr>\n",
              "      <th>...</th>\n",
              "      <td>...</td>\n",
              "      <td>...</td>\n",
              "      <td>...</td>\n",
              "    </tr>\n",
              "    <tr>\n",
              "      <th>1016</th>\n",
              "      <td>[-0.09399215470338836, -0.07581700666718469, -...</td>\n",
              "      <td>[0.0013470897256730337, 0.0021139789812571366,...</td>\n",
              "      <td>[0.0, 0.0, 0.0, 0.0, 0.0, 0.0, 0.3077497412413...</td>\n",
              "    </tr>\n",
              "    <tr>\n",
              "      <th>1017</th>\n",
              "      <td>[0.12178146241731114, 0.11189611167124339, 0.1...</td>\n",
              "      <td>[0.001384099028685586, 0.0021601822551360617, ...</td>\n",
              "      <td>[0.0, 0.0, 0.0, 0.0, 0.0, 0.0, 0.2299074484300...</td>\n",
              "    </tr>\n",
              "    <tr>\n",
              "      <th>1018</th>\n",
              "      <td>[-0.14434849756242168, -0.12369798626506422, -...</td>\n",
              "      <td>[0.0013403005936539496, 0.002314003743353513, ...</td>\n",
              "      <td>[0.0, 0.0, 0.0, 0.0, 0.0, 0.0, 0.2886976999185...</td>\n",
              "    </tr>\n",
              "    <tr>\n",
              "      <th>1019</th>\n",
              "      <td>[0.12246373280600302, -0.022959302450522835, 0...</td>\n",
              "      <td>[0.001419439714691728, 0.002208483168563792, 0...</td>\n",
              "      <td>[0.0, 0.0, 0.0, 0.0, 0.0, 0.0, 0.3068307509386...</td>\n",
              "    </tr>\n",
              "    <tr>\n",
              "      <th>1020</th>\n",
              "      <td>[-0.07430872110544118, -0.0653438695066067, -0...</td>\n",
              "      <td>[0.0013137535337891964, 0.0022039447807009104,...</td>\n",
              "      <td>[0.0, 0.0, 0.0, 0.0, 0.0, 0.0, 0.2863782784721...</td>\n",
              "    </tr>\n",
              "  </tbody>\n",
              "</table>\n",
              "<p>1020 rows × 3 columns</p>\n",
              "</div>\n",
              "      <button class=\"colab-df-convert\" onclick=\"convertToInteractive('df-1dffb078-962f-4f0b-b06c-ae9b2d90cb2a')\"\n",
              "              title=\"Convert this dataframe to an interactive table.\"\n",
              "              style=\"display:none;\">\n",
              "        \n",
              "  <svg xmlns=\"http://www.w3.org/2000/svg\" height=\"24px\"viewBox=\"0 0 24 24\"\n",
              "       width=\"24px\">\n",
              "    <path d=\"M0 0h24v24H0V0z\" fill=\"none\"/>\n",
              "    <path d=\"M18.56 5.44l.94 2.06.94-2.06 2.06-.94-2.06-.94-.94-2.06-.94 2.06-2.06.94zm-11 1L8.5 8.5l.94-2.06 2.06-.94-2.06-.94L8.5 2.5l-.94 2.06-2.06.94zm10 10l.94 2.06.94-2.06 2.06-.94-2.06-.94-.94-2.06-.94 2.06-2.06.94z\"/><path d=\"M17.41 7.96l-1.37-1.37c-.4-.4-.92-.59-1.43-.59-.52 0-1.04.2-1.43.59L10.3 9.45l-7.72 7.72c-.78.78-.78 2.05 0 2.83L4 21.41c.39.39.9.59 1.41.59.51 0 1.02-.2 1.41-.59l7.78-7.78 2.81-2.81c.8-.78.8-2.07 0-2.86zM5.41 20L4 18.59l7.72-7.72 1.47 1.35L5.41 20z\"/>\n",
              "  </svg>\n",
              "      </button>\n",
              "      \n",
              "  <style>\n",
              "    .colab-df-container {\n",
              "      display:flex;\n",
              "      flex-wrap:wrap;\n",
              "      gap: 12px;\n",
              "    }\n",
              "\n",
              "    .colab-df-convert {\n",
              "      background-color: #E8F0FE;\n",
              "      border: none;\n",
              "      border-radius: 50%;\n",
              "      cursor: pointer;\n",
              "      display: none;\n",
              "      fill: #1967D2;\n",
              "      height: 32px;\n",
              "      padding: 0 0 0 0;\n",
              "      width: 32px;\n",
              "    }\n",
              "\n",
              "    .colab-df-convert:hover {\n",
              "      background-color: #E2EBFA;\n",
              "      box-shadow: 0px 1px 2px rgba(60, 64, 67, 0.3), 0px 1px 3px 1px rgba(60, 64, 67, 0.15);\n",
              "      fill: #174EA6;\n",
              "    }\n",
              "\n",
              "    [theme=dark] .colab-df-convert {\n",
              "      background-color: #3B4455;\n",
              "      fill: #D2E3FC;\n",
              "    }\n",
              "\n",
              "    [theme=dark] .colab-df-convert:hover {\n",
              "      background-color: #434B5C;\n",
              "      box-shadow: 0px 1px 3px 1px rgba(0, 0, 0, 0.15);\n",
              "      filter: drop-shadow(0px 1px 2px rgba(0, 0, 0, 0.3));\n",
              "      fill: #FFFFFF;\n",
              "    }\n",
              "  </style>\n",
              "\n",
              "      <script>\n",
              "        const buttonEl =\n",
              "          document.querySelector('#df-1dffb078-962f-4f0b-b06c-ae9b2d90cb2a button.colab-df-convert');\n",
              "        buttonEl.style.display =\n",
              "          google.colab.kernel.accessAllowed ? 'block' : 'none';\n",
              "\n",
              "        async function convertToInteractive(key) {\n",
              "          const element = document.querySelector('#df-1dffb078-962f-4f0b-b06c-ae9b2d90cb2a');\n",
              "          const dataTable =\n",
              "            await google.colab.kernel.invokeFunction('convertToInteractive',\n",
              "                                                     [key], {});\n",
              "          if (!dataTable) return;\n",
              "\n",
              "          const docLinkHtml = 'Like what you see? Visit the ' +\n",
              "            '<a target=\"_blank\" href=https://colab.research.google.com/notebooks/data_table.ipynb>data table notebook</a>'\n",
              "            + ' to learn more about interactive tables.';\n",
              "          element.innerHTML = '';\n",
              "          dataTable['output_type'] = 'display_data';\n",
              "          await google.colab.output.renderOutput(dataTable, element);\n",
              "          const docLink = document.createElement('div');\n",
              "          docLink.innerHTML = docLinkHtml;\n",
              "          element.appendChild(docLink);\n",
              "        }\n",
              "      </script>\n",
              "    </div>\n",
              "  </div>\n",
              "  "
            ]
          },
          "metadata": {},
          "execution_count": 8
        }
      ]
    },
    {
      "cell_type": "code",
      "source": [
        "# transform the type of the tree columns to list so we can manipulate the numbers\n",
        "import json \n",
        "def to_array(l):\n",
        "  r = str(l).replace(\"'\",'')\n",
        "  data = json.loads(r)\n",
        "  return data\n",
        "file['g'] = file['g'].apply(to_array)\n",
        "file['fftg'] = file['fftg'].apply(to_array)\n",
        "file['fftv'] = file['fftv'].apply(to_array)\n"
      ],
      "metadata": {
        "id": "hyQFZwhz6Na_"
      },
      "execution_count": 9,
      "outputs": []
    },
    {
      "cell_type": "code",
      "source": [
        "file.head()"
      ],
      "metadata": {
        "colab": {
          "base_uri": "https://localhost:8080/",
          "height": 206
        },
        "id": "gFRncivuQDdi",
        "outputId": "4bf925a6-47cb-4721-a71d-5ca0e95eca55"
      },
      "execution_count": 10,
      "outputs": [
        {
          "output_type": "execute_result",
          "data": {
            "text/plain": [
              "   pos                                                  g  \\\n",
              "1  P1V  [-0.16512878645751894, 0.04998307178737588, -0...   \n",
              "2  P1H  [-0.042161579465260245, 0.021362479328271962, ...   \n",
              "3  P2V  [-0.1349568120102025, 0.23669171459765884, 0.0...   \n",
              "4  P2A  [0.12349800107774804, 0.25274141834206476, 0.2...   \n",
              "5  P1V  [0.021572814759439424, 0.08107507627351192, 0....   \n",
              "\n",
              "                                                fftg  \\\n",
              "1  [0.0006586228415304686, 0.0008392442605411405,...   \n",
              "2  [0.0006843542482240162, 0.0008895457854118105,...   \n",
              "3  [0.0006736708035253035, 0.0008349143002841891,...   \n",
              "4  [0.0008922086829811786, 0.0012222498163517285,...   \n",
              "5  [0.0003683865447006467, 0.00046141507219113866...   \n",
              "\n",
              "                                                fftv       F     C  \n",
              "1  [0.0, 0.0, 0.0, 0.0, 0.0, 0.0, 0.2966064382657...  Normal  None  \n",
              "2  [0.0, 0.0, 0.0, 0.0, 0.0, 0.0, 0.4527706580487...  Normal  None  \n",
              "3  [0.0, 0.0, 0.0, 0.0, 0.0, 0.0, 0.3385470510031...  Normal  None  \n",
              "4  [0.0, 0.0, 0.0, 0.0, 0.0, 0.0, 0.5506433760599...  Normal  None  \n",
              "5  [0.0, 0.0, 0.0, 0.0, 0.0, 0.0, 0.2025792082014...  Normal  None  "
            ],
            "text/html": [
              "\n",
              "  <div id=\"df-a0452e5c-7812-47f6-8677-2040000fa7da\">\n",
              "    <div class=\"colab-df-container\">\n",
              "      <div>\n",
              "<style scoped>\n",
              "    .dataframe tbody tr th:only-of-type {\n",
              "        vertical-align: middle;\n",
              "    }\n",
              "\n",
              "    .dataframe tbody tr th {\n",
              "        vertical-align: top;\n",
              "    }\n",
              "\n",
              "    .dataframe thead th {\n",
              "        text-align: right;\n",
              "    }\n",
              "</style>\n",
              "<table border=\"1\" class=\"dataframe\">\n",
              "  <thead>\n",
              "    <tr style=\"text-align: right;\">\n",
              "      <th></th>\n",
              "      <th>pos</th>\n",
              "      <th>g</th>\n",
              "      <th>fftg</th>\n",
              "      <th>fftv</th>\n",
              "      <th>F</th>\n",
              "      <th>C</th>\n",
              "    </tr>\n",
              "  </thead>\n",
              "  <tbody>\n",
              "    <tr>\n",
              "      <th>1</th>\n",
              "      <td>P1V</td>\n",
              "      <td>[-0.16512878645751894, 0.04998307178737588, -0...</td>\n",
              "      <td>[0.0006586228415304686, 0.0008392442605411405,...</td>\n",
              "      <td>[0.0, 0.0, 0.0, 0.0, 0.0, 0.0, 0.2966064382657...</td>\n",
              "      <td>Normal</td>\n",
              "      <td>None</td>\n",
              "    </tr>\n",
              "    <tr>\n",
              "      <th>2</th>\n",
              "      <td>P1H</td>\n",
              "      <td>[-0.042161579465260245, 0.021362479328271962, ...</td>\n",
              "      <td>[0.0006843542482240162, 0.0008895457854118105,...</td>\n",
              "      <td>[0.0, 0.0, 0.0, 0.0, 0.0, 0.0, 0.4527706580487...</td>\n",
              "      <td>Normal</td>\n",
              "      <td>None</td>\n",
              "    </tr>\n",
              "    <tr>\n",
              "      <th>3</th>\n",
              "      <td>P2V</td>\n",
              "      <td>[-0.1349568120102025, 0.23669171459765884, 0.0...</td>\n",
              "      <td>[0.0006736708035253035, 0.0008349143002841891,...</td>\n",
              "      <td>[0.0, 0.0, 0.0, 0.0, 0.0, 0.0, 0.3385470510031...</td>\n",
              "      <td>Normal</td>\n",
              "      <td>None</td>\n",
              "    </tr>\n",
              "    <tr>\n",
              "      <th>4</th>\n",
              "      <td>P2A</td>\n",
              "      <td>[0.12349800107774804, 0.25274141834206476, 0.2...</td>\n",
              "      <td>[0.0008922086829811786, 0.0012222498163517285,...</td>\n",
              "      <td>[0.0, 0.0, 0.0, 0.0, 0.0, 0.0, 0.5506433760599...</td>\n",
              "      <td>Normal</td>\n",
              "      <td>None</td>\n",
              "    </tr>\n",
              "    <tr>\n",
              "      <th>5</th>\n",
              "      <td>P1V</td>\n",
              "      <td>[0.021572814759439424, 0.08107507627351192, 0....</td>\n",
              "      <td>[0.0003683865447006467, 0.00046141507219113866...</td>\n",
              "      <td>[0.0, 0.0, 0.0, 0.0, 0.0, 0.0, 0.2025792082014...</td>\n",
              "      <td>Normal</td>\n",
              "      <td>None</td>\n",
              "    </tr>\n",
              "  </tbody>\n",
              "</table>\n",
              "</div>\n",
              "      <button class=\"colab-df-convert\" onclick=\"convertToInteractive('df-a0452e5c-7812-47f6-8677-2040000fa7da')\"\n",
              "              title=\"Convert this dataframe to an interactive table.\"\n",
              "              style=\"display:none;\">\n",
              "        \n",
              "  <svg xmlns=\"http://www.w3.org/2000/svg\" height=\"24px\"viewBox=\"0 0 24 24\"\n",
              "       width=\"24px\">\n",
              "    <path d=\"M0 0h24v24H0V0z\" fill=\"none\"/>\n",
              "    <path d=\"M18.56 5.44l.94 2.06.94-2.06 2.06-.94-2.06-.94-.94-2.06-.94 2.06-2.06.94zm-11 1L8.5 8.5l.94-2.06 2.06-.94-2.06-.94L8.5 2.5l-.94 2.06-2.06.94zm10 10l.94 2.06.94-2.06 2.06-.94-2.06-.94-.94-2.06-.94 2.06-2.06.94z\"/><path d=\"M17.41 7.96l-1.37-1.37c-.4-.4-.92-.59-1.43-.59-.52 0-1.04.2-1.43.59L10.3 9.45l-7.72 7.72c-.78.78-.78 2.05 0 2.83L4 21.41c.39.39.9.59 1.41.59.51 0 1.02-.2 1.41-.59l7.78-7.78 2.81-2.81c.8-.78.8-2.07 0-2.86zM5.41 20L4 18.59l7.72-7.72 1.47 1.35L5.41 20z\"/>\n",
              "  </svg>\n",
              "      </button>\n",
              "      \n",
              "  <style>\n",
              "    .colab-df-container {\n",
              "      display:flex;\n",
              "      flex-wrap:wrap;\n",
              "      gap: 12px;\n",
              "    }\n",
              "\n",
              "    .colab-df-convert {\n",
              "      background-color: #E8F0FE;\n",
              "      border: none;\n",
              "      border-radius: 50%;\n",
              "      cursor: pointer;\n",
              "      display: none;\n",
              "      fill: #1967D2;\n",
              "      height: 32px;\n",
              "      padding: 0 0 0 0;\n",
              "      width: 32px;\n",
              "    }\n",
              "\n",
              "    .colab-df-convert:hover {\n",
              "      background-color: #E2EBFA;\n",
              "      box-shadow: 0px 1px 2px rgba(60, 64, 67, 0.3), 0px 1px 3px 1px rgba(60, 64, 67, 0.15);\n",
              "      fill: #174EA6;\n",
              "    }\n",
              "\n",
              "    [theme=dark] .colab-df-convert {\n",
              "      background-color: #3B4455;\n",
              "      fill: #D2E3FC;\n",
              "    }\n",
              "\n",
              "    [theme=dark] .colab-df-convert:hover {\n",
              "      background-color: #434B5C;\n",
              "      box-shadow: 0px 1px 3px 1px rgba(0, 0, 0, 0.15);\n",
              "      filter: drop-shadow(0px 1px 2px rgba(0, 0, 0, 0.3));\n",
              "      fill: #FFFFFF;\n",
              "    }\n",
              "  </style>\n",
              "\n",
              "      <script>\n",
              "        const buttonEl =\n",
              "          document.querySelector('#df-a0452e5c-7812-47f6-8677-2040000fa7da button.colab-df-convert');\n",
              "        buttonEl.style.display =\n",
              "          google.colab.kernel.accessAllowed ? 'block' : 'none';\n",
              "\n",
              "        async function convertToInteractive(key) {\n",
              "          const element = document.querySelector('#df-a0452e5c-7812-47f6-8677-2040000fa7da');\n",
              "          const dataTable =\n",
              "            await google.colab.kernel.invokeFunction('convertToInteractive',\n",
              "                                                     [key], {});\n",
              "          if (!dataTable) return;\n",
              "\n",
              "          const docLinkHtml = 'Like what you see? Visit the ' +\n",
              "            '<a target=\"_blank\" href=https://colab.research.google.com/notebooks/data_table.ipynb>data table notebook</a>'\n",
              "            + ' to learn more about interactive tables.';\n",
              "          element.innerHTML = '';\n",
              "          dataTable['output_type'] = 'display_data';\n",
              "          await google.colab.output.renderOutput(dataTable, element);\n",
              "          const docLink = document.createElement('div');\n",
              "          docLink.innerHTML = docLinkHtml;\n",
              "          element.appendChild(docLink);\n",
              "        }\n",
              "      </script>\n",
              "    </div>\n",
              "  </div>\n",
              "  "
            ]
          },
          "metadata": {},
          "execution_count": 10
        }
      ]
    },
    {
      "cell_type": "code",
      "source": [
        "g=file['g'][1]\n",
        "fftg = file['fftg'][1]\n",
        "fftv=file['fftv'][1]\n",
        "len(g),len(fftg),len(fftv)"
      ],
      "metadata": {
        "id": "JdvU09PXOP18",
        "colab": {
          "base_uri": "https://localhost:8080/"
        },
        "outputId": "dfb40ed2-1847-4bc8-ba2b-ac40952f9d11"
      },
      "execution_count": 11,
      "outputs": [
        {
          "output_type": "execute_result",
          "data": {
            "text/plain": [
              "(160000, 3200, 3200)"
            ]
          },
          "metadata": {},
          "execution_count": 11
        }
      ]
    },
    {
      "cell_type": "code",
      "source": [
        "N = len(g)\n",
        "N"
      ],
      "metadata": {
        "colab": {
          "base_uri": "https://localhost:8080/"
        },
        "id": "m817WU788hU-",
        "outputId": "6616bd83-0951-4f06-d851-859e9b58c4e7"
      },
      "execution_count": 12,
      "outputs": [
        {
          "output_type": "execute_result",
          "data": {
            "text/plain": [
              "160000"
            ]
          },
          "metadata": {},
          "execution_count": 12
        }
      ]
    },
    {
      "cell_type": "code",
      "source": [
        "#example of visualization of a normal signal\n",
        "import matplotlib.pyplot as plt\n",
        "plt.figure(1)\n",
        "plt.plot(g)\n",
        "plt.axis([0,5000, -0.5, 0.5])\n",
        "plt.title('signal waveform')\n",
        "plt.figure(2)\n",
        "plt.plot(fftg)\n",
        "plt.title('fftg')\n",
        "plt.figure(3)\n",
        "plt.plot(fftv)\n",
        "plt.title('fftv')\n",
        "plt.axis([0,1000, 0, 0.4])"
      ],
      "metadata": {
        "colab": {
          "base_uri": "https://localhost:8080/",
          "height": 826
        },
        "id": "jRI3ZtYMScDQ",
        "outputId": "c7654c4b-2dbc-452d-d299-310ecb55f2d7"
      },
      "execution_count": 13,
      "outputs": [
        {
          "output_type": "execute_result",
          "data": {
            "text/plain": [
              "(0.0, 1000.0, 0.0, 0.4)"
            ]
          },
          "metadata": {},
          "execution_count": 13
        },
        {
          "output_type": "display_data",
          "data": {
            "text/plain": [
              "<Figure size 432x288 with 1 Axes>"
            ],
            "image/png": "[encoded data removed]"
          },
          "metadata": {
            "needs_background": "light"
          }
        },
        {
          "output_type": "display_data",
          "data": {
            "text/plain": [
              "<Figure size 432x288 with 1 Axes>"
            ],
            "image/png": "[encoded data removed]"
          },
          "metadata": {
            "needs_background": "light"
          }
        },
        {
          "output_type": "display_data",
          "data": {
            "text/plain": [
              "<Figure size 432x288 with 1 Axes>"
            ],
            "image/png": "[encoded data removed]"
          },
          "metadata": {
            "needs_background": "light"
          }
        }
      ]
    },
    {
      "cell_type": "markdown",
      "source": [
        "## calculation of indicators "
      ],
      "metadata": {
        "id": "sgKtNCqcO5Ha"
      }
    },
    {
      "cell_type": "code",
      "source": [
        "import numpy as np\n",
        "def fun(l): return np.sqrt(sum(np.square(l)/N))\n",
        "file['NGV']=file['fftv'].apply(fun)\n",
        "file['NGA']=file['fftg'].apply(fun)\n",
        "file.head()"
      ],
      "metadata": {
        "colab": {
          "base_uri": "https://localhost:8080/",
          "height": 337
        },
        "id": "KhM69WlYSraH",
        "outputId": "bca2435b-ebff-41d1-9767-a216d7af1359"
      },
      "execution_count": 14,
      "outputs": [
        {
          "output_type": "execute_result",
          "data": {
            "text/plain": [
              "   pos                                                  g  \\\n",
              "1  P1V  [-0.16512878645751894, 0.04998307178737588, -0...   \n",
              "2  P1H  [-0.042161579465260245, 0.021362479328271962, ...   \n",
              "3  P2V  [-0.1349568120102025, 0.23669171459765884, 0.0...   \n",
              "4  P2A  [0.12349800107774804, 0.25274141834206476, 0.2...   \n",
              "5  P1V  [0.021572814759439424, 0.08107507627351192, 0....   \n",
              "\n",
              "                                                fftg  \\\n",
              "1  [0.0006586228415304686, 0.0008392442605411405,...   \n",
              "2  [0.0006843542482240162, 0.0008895457854118105,...   \n",
              "3  [0.0006736708035253035, 0.0008349143002841891,...   \n",
              "4  [0.0008922086829811786, 0.0012222498163517285,...   \n",
              "5  [0.0003683865447006467, 0.00046141507219113866...   \n",
              "\n",
              "                                                fftv       F     C       NGV  \\\n",
              "1  [0.0, 0.0, 0.0, 0.0, 0.0, 0.0, 0.2966064382657...  Normal  None  0.002214   \n",
              "2  [0.0, 0.0, 0.0, 0.0, 0.0, 0.0, 0.4527706580487...  Normal  None  0.002765   \n",
              "3  [0.0, 0.0, 0.0, 0.0, 0.0, 0.0, 0.3385470510031...  Normal  None  0.002061   \n",
              "4  [0.0, 0.0, 0.0, 0.0, 0.0, 0.0, 0.5506433760599...  Normal  None  0.002520   \n",
              "5  [0.0, 0.0, 0.0, 0.0, 0.0, 0.0, 0.2025792082014...  Normal  None  0.001084   \n",
              "\n",
              "        NGA  \n",
              "1  0.000112  \n",
              "2  0.000108  \n",
              "3  0.000096  \n",
              "4  0.000127  \n",
              "5  0.000057  "
            ],
            "text/html": [
              "\n",
              "  <div id=\"df-a95d7a3d-5daa-4bbe-8fab-b161e72e4f42\">\n",
              "    <div class=\"colab-df-container\">\n",
              "      <div>\n",
              "<style scoped>\n",
              "    .dataframe tbody tr th:only-of-type {\n",
              "        vertical-align: middle;\n",
              "    }\n",
              "\n",
              "    .dataframe tbody tr th {\n",
              "        vertical-align: top;\n",
              "    }\n",
              "\n",
              "    .dataframe thead th {\n",
              "        text-align: right;\n",
              "    }\n",
              "</style>\n",
              "<table border=\"1\" class=\"dataframe\">\n",
              "  <thead>\n",
              "    <tr style=\"text-align: right;\">\n",
              "      <th></th>\n",
              "      <th>pos</th>\n",
              "      <th>g</th>\n",
              "      <th>fftg</th>\n",
              "      <th>fftv</th>\n",
              "      <th>F</th>\n",
              "      <th>C</th>\n",
              "      <th>NGV</th>\n",
              "      <th>NGA</th>\n",
              "    </tr>\n",
              "  </thead>\n",
              "  <tbody>\n",
              "    <tr>\n",
              "      <th>1</th>\n",
              "      <td>P1V</td>\n",
              "      <td>[-0.16512878645751894, 0.04998307178737588, -0...</td>\n",
              "      <td>[0.0006586228415304686, 0.0008392442605411405,...</td>\n",
              "      <td>[0.0, 0.0, 0.0, 0.0, 0.0, 0.0, 0.2966064382657...</td>\n",
              "      <td>Normal</td>\n",
              "      <td>None</td>\n",
              "      <td>0.002214</td>\n",
              "      <td>0.000112</td>\n",
              "    </tr>\n",
              "    <tr>\n",
              "      <th>2</th>\n",
              "      <td>P1H</td>\n",
              "      <td>[-0.042161579465260245, 0.021362479328271962, ...</td>\n",
              "      <td>[0.0006843542482240162, 0.0008895457854118105,...</td>\n",
              "      <td>[0.0, 0.0, 0.0, 0.0, 0.0, 0.0, 0.4527706580487...</td>\n",
              "      <td>Normal</td>\n",
              "      <td>None</td>\n",
              "      <td>0.002765</td>\n",
              "      <td>0.000108</td>\n",
              "    </tr>\n",
              "    <tr>\n",
              "      <th>3</th>\n",
              "      <td>P2V</td>\n",
              "      <td>[-0.1349568120102025, 0.23669171459765884, 0.0...</td>\n",
              "      <td>[0.0006736708035253035, 0.0008349143002841891,...</td>\n",
              "      <td>[0.0, 0.0, 0.0, 0.0, 0.0, 0.0, 0.3385470510031...</td>\n",
              "      <td>Normal</td>\n",
              "      <td>None</td>\n",
              "      <td>0.002061</td>\n",
              "      <td>0.000096</td>\n",
              "    </tr>\n",
              "    <tr>\n",
              "      <th>4</th>\n",
              "      <td>P2A</td>\n",
              "      <td>[0.12349800107774804, 0.25274141834206476, 0.2...</td>\n",
              "      <td>[0.0008922086829811786, 0.0012222498163517285,...</td>\n",
              "      <td>[0.0, 0.0, 0.0, 0.0, 0.0, 0.0, 0.5506433760599...</td>\n",
              "      <td>Normal</td>\n",
              "      <td>None</td>\n",
              "      <td>0.002520</td>\n",
              "      <td>0.000127</td>\n",
              "    </tr>\n",
              "    <tr>\n",
              "      <th>5</th>\n",
              "      <td>P1V</td>\n",
              "      <td>[0.021572814759439424, 0.08107507627351192, 0....</td>\n",
              "      <td>[0.0003683865447006467, 0.00046141507219113866...</td>\n",
              "      <td>[0.0, 0.0, 0.0, 0.0, 0.0, 0.0, 0.2025792082014...</td>\n",
              "      <td>Normal</td>\n",
              "      <td>None</td>\n",
              "      <td>0.001084</td>\n",
              "      <td>0.000057</td>\n",
              "    </tr>\n",
              "  </tbody>\n",
              "</table>\n",
              "</div>\n",
              "      <button class=\"colab-df-convert\" onclick=\"convertToInteractive('df-a95d7a3d-5daa-4bbe-8fab-b161e72e4f42')\"\n",
              "              title=\"Convert this dataframe to an interactive table.\"\n",
              "              style=\"display:none;\">\n",
              "        \n",
              "  <svg xmlns=\"http://www.w3.org/2000/svg\" height=\"24px\"viewBox=\"0 0 24 24\"\n",
              "       width=\"24px\">\n",
              "    <path d=\"M0 0h24v24H0V0z\" fill=\"none\"/>\n",
              "    <path d=\"M18.56 5.44l.94 2.06.94-2.06 2.06-.94-2.06-.94-.94-2.06-.94 2.06-2.06.94zm-11 1L8.5 8.5l.94-2.06 2.06-.94-2.06-.94L8.5 2.5l-.94 2.06-2.06.94zm10 10l.94 2.06.94-2.06 2.06-.94-2.06-.94-.94-2.06-.94 2.06-2.06.94z\"/><path d=\"M17.41 7.96l-1.37-1.37c-.4-.4-.92-.59-1.43-.59-.52 0-1.04.2-1.43.59L10.3 9.45l-7.72 7.72c-.78.78-.78 2.05 0 2.83L4 21.41c.39.39.9.59 1.41.59.51 0 1.02-.2 1.41-.59l7.78-7.78 2.81-2.81c.8-.78.8-2.07 0-2.86zM5.41 20L4 18.59l7.72-7.72 1.47 1.35L5.41 20z\"/>\n",
              "  </svg>\n",
              "      </button>\n",
              "      \n",
              "  <style>\n",
              "    .colab-df-container {\n",
              "      display:flex;\n",
              "      flex-wrap:wrap;\n",
              "      gap: 12px;\n",
              "    }\n",
              "\n",
              "    .colab-df-convert {\n",
              "      background-color: #E8F0FE;\n",
              "      border: none;\n",
              "      border-radius: 50%;\n",
              "      cursor: pointer;\n",
              "      display: none;\n",
              "      fill: #1967D2;\n",
              "      height: 32px;\n",
              "      padding: 0 0 0 0;\n",
              "      width: 32px;\n",
              "    }\n",
              "\n",
              "    .colab-df-convert:hover {\n",
              "      background-color: #E2EBFA;\n",
              "      box-shadow: 0px 1px 2px rgba(60, 64, 67, 0.3), 0px 1px 3px 1px rgba(60, 64, 67, 0.15);\n",
              "      fill: #174EA6;\n",
              "    }\n",
              "\n",
              "    [theme=dark] .colab-df-convert {\n",
              "      background-color: #3B4455;\n",
              "      fill: #D2E3FC;\n",
              "    }\n",
              "\n",
              "    [theme=dark] .colab-df-convert:hover {\n",
              "      background-color: #434B5C;\n",
              "      box-shadow: 0px 1px 3px 1px rgba(0, 0, 0, 0.15);\n",
              "      filter: drop-shadow(0px 1px 2px rgba(0, 0, 0, 0.3));\n",
              "      fill: #FFFFFF;\n",
              "    }\n",
              "  </style>\n",
              "\n",
              "      <script>\n",
              "        const buttonEl =\n",
              "          document.querySelector('#df-a95d7a3d-5daa-4bbe-8fab-b161e72e4f42 button.colab-df-convert');\n",
              "        buttonEl.style.display =\n",
              "          google.colab.kernel.accessAllowed ? 'block' : 'none';\n",
              "\n",
              "        async function convertToInteractive(key) {\n",
              "          const element = document.querySelector('#df-a95d7a3d-5daa-4bbe-8fab-b161e72e4f42');\n",
              "          const dataTable =\n",
              "            await google.colab.kernel.invokeFunction('convertToInteractive',\n",
              "                                                     [key], {});\n",
              "          if (!dataTable) return;\n",
              "\n",
              "          const docLinkHtml = 'Like what you see? Visit the ' +\n",
              "            '<a target=\"_blank\" href=https://colab.research.google.com/notebooks/data_table.ipynb>data table notebook</a>'\n",
              "            + ' to learn more about interactive tables.';\n",
              "          element.innerHTML = '';\n",
              "          dataTable['output_type'] = 'display_data';\n",
              "          await google.colab.output.renderOutput(dataTable, element);\n",
              "          const docLink = document.createElement('div');\n",
              "          docLink.innerHTML = docLinkHtml;\n",
              "          element.appendChild(docLink);\n",
              "        }\n",
              "      </script>\n",
              "    </div>\n",
              "  </div>\n",
              "  "
            ]
          },
          "metadata": {},
          "execution_count": 14
        }
      ]
    },
    {
      "cell_type": "code",
      "source": [
        "file['pos'].isna().sum()"
      ],
      "metadata": {
        "colab": {
          "base_uri": "https://localhost:8080/"
        },
        "id": "4kgPYb7Bv5gx",
        "outputId": "efb87cc5-8e1d-426e-e9a8-6a2254bdef23"
      },
      "execution_count": 15,
      "outputs": [
        {
          "output_type": "execute_result",
          "data": {
            "text/plain": [
              "0"
            ]
          },
          "metadata": {},
          "execution_count": 15
        }
      ]
    },
    {
      "cell_type": "markdown",
      "source": [
        "The column pos refer to the position of the sensors, in some applications it's from the requiered features to know the source of the measure. we can use a Ml model to predict the pos based on the signal informations, fftg and fftv."
      ],
      "metadata": {
        "id": "MPrbIxo-vKj5"
      }
    },
    {
      "cell_type": "markdown",
      "source": [
        "# Modeling"
      ],
      "metadata": {
        "id": "_cxUZy8SwSKp"
      }
    },
    {
      "cell_type": "markdown",
      "source": [
        "\n",
        "* Modele choisi : KNN\n",
        "* Features : NGV and NGA\n",
        "*   Target : Failure mode classification\n",
        "\n",
        "\n"
      ],
      "metadata": {
        "id": "RTOARZfTwYwQ"
      }
    },
    {
      "cell_type": "code",
      "source": [
        "plt.scatter(file['NGV'],file['NGA'],marker='.')"
      ],
      "metadata": {
        "colab": {
          "base_uri": "https://localhost:8080/",
          "height": 282
        },
        "id": "iXFI7Sbd_qRO",
        "outputId": "003b0256-78b4-49fa-fbee-2670122726bc"
      },
      "execution_count": 17,
      "outputs": [
        {
          "output_type": "execute_result",
          "data": {
            "text/plain": [
              "<matplotlib.collections.PathCollection at 0x7f99ed8c5d50>"
            ]
          },
          "metadata": {},
          "execution_count": 17
        },
        {
          "output_type": "display_data",
          "data": {
            "text/plain": [
              "<Figure size 432x288 with 1 Axes>"
            ],
            "image/png": "[encoded data removed]"
          },
          "metadata": {
            "needs_background": "light"
          }
        }
      ]
    },
    {
      "cell_type": "code",
      "source": [
        "X = file[['NGV','NGA']].values\n",
        "X[0:5]"
      ],
      "metadata": {
        "id": "jt-g1vloUTwF",
        "colab": {
          "base_uri": "https://localhost:8080/"
        },
        "outputId": "0cafabff-4260-4553-d407-318e73bd992b"
      },
      "execution_count": 18,
      "outputs": [
        {
          "output_type": "execute_result",
          "data": {
            "text/plain": [
              "array([[2.21397394e-03, 1.11535359e-04],\n",
              "       [2.76458266e-03, 1.07529643e-04],\n",
              "       [2.06113499e-03, 9.64392631e-05],\n",
              "       [2.52048384e-03, 1.26985113e-04],\n",
              "       [1.08431802e-03, 5.67306974e-05]])"
            ]
          },
          "metadata": {},
          "execution_count": 18
        }
      ]
    },
    {
      "cell_type": "code",
      "source": [
        "# Function to convert  \n",
        "def listToString(s): \n",
        "    str1 = \"\"  \n",
        "    for ele in s: \n",
        "        str1 += ele   \n",
        "    return str1   \n",
        "file['F']= file['F'].apply(listToString)\n",
        "file['F'].values"
      ],
      "metadata": {
        "colab": {
          "base_uri": "https://localhost:8080/"
        },
        "id": "IauOipyV-Rpw",
        "outputId": "ae7de36b-c7cc-45a0-fe38-6f5fe0c258ea"
      },
      "execution_count": 19,
      "outputs": [
        {
          "output_type": "execute_result",
          "data": {
            "text/plain": [
              "array(['Normal', 'Normal', 'Normal', ..., 'Structural Fault',\n",
              "       'Structural Fault', 'Structural Fault'], dtype=object)"
            ]
          },
          "metadata": {},
          "execution_count": 19
        }
      ]
    },
    {
      "cell_type": "code",
      "source": [
        "dic = {}\n",
        "for i in range(1,8): dic[file['F'].unique()[i-1]]= i\n",
        "dic"
      ],
      "metadata": {
        "colab": {
          "base_uri": "https://localhost:8080/"
        },
        "id": "UQqaIUIX5_ea",
        "outputId": "62f82a35-880a-4003-febc-5c489809793c"
      },
      "execution_count": 20,
      "outputs": [
        {
          "output_type": "execute_result",
          "data": {
            "text/plain": [
              "{'Bearing Lubrification Fault': 2,\n",
              " 'Gear fault': 3,\n",
              " 'Imbalance': 4,\n",
              " 'Mechanical looseness': 5,\n",
              " 'Misalignment': 6,\n",
              " 'Normal': 1,\n",
              " 'Structural Fault': 7}"
            ]
          },
          "metadata": {},
          "execution_count": 20
        }
      ]
    },
    {
      "cell_type": "code",
      "source": [
        "def cor(x): return dic[x]\n",
        "file['New_F']  = file['F'].apply(cor)\n",
        "file.head()"
      ],
      "metadata": {
        "colab": {
          "base_uri": "https://localhost:8080/",
          "height": 337
        },
        "id": "vReZXeIVA6df",
        "outputId": "e9f3a359-eb2a-4bf7-ecd9-d3664d347ef8"
      },
      "execution_count": 21,
      "outputs": [
        {
          "output_type": "execute_result",
          "data": {
            "text/plain": [
              "   pos                                                  g  \\\n",
              "1  P1V  [-0.16512878645751894, 0.04998307178737588, -0...   \n",
              "2  P1H  [-0.042161579465260245, 0.021362479328271962, ...   \n",
              "3  P2V  [-0.1349568120102025, 0.23669171459765884, 0.0...   \n",
              "4  P2A  [0.12349800107774804, 0.25274141834206476, 0.2...   \n",
              "5  P1V  [0.021572814759439424, 0.08107507627351192, 0....   \n",
              "\n",
              "                                                fftg  \\\n",
              "1  [0.0006586228415304686, 0.0008392442605411405,...   \n",
              "2  [0.0006843542482240162, 0.0008895457854118105,...   \n",
              "3  [0.0006736708035253035, 0.0008349143002841891,...   \n",
              "4  [0.0008922086829811786, 0.0012222498163517285,...   \n",
              "5  [0.0003683865447006467, 0.00046141507219113866...   \n",
              "\n",
              "                                                fftv       F     C       NGV  \\\n",
              "1  [0.0, 0.0, 0.0, 0.0, 0.0, 0.0, 0.2966064382657...  Normal  None  0.002214   \n",
              "2  [0.0, 0.0, 0.0, 0.0, 0.0, 0.0, 0.4527706580487...  Normal  None  0.002765   \n",
              "3  [0.0, 0.0, 0.0, 0.0, 0.0, 0.0, 0.3385470510031...  Normal  None  0.002061   \n",
              "4  [0.0, 0.0, 0.0, 0.0, 0.0, 0.0, 0.5506433760599...  Normal  None  0.002520   \n",
              "5  [0.0, 0.0, 0.0, 0.0, 0.0, 0.0, 0.2025792082014...  Normal  None  0.001084   \n",
              "\n",
              "        NGA  New_F  \n",
              "1  0.000112      1  \n",
              "2  0.000108      1  \n",
              "3  0.000096      1  \n",
              "4  0.000127      1  \n",
              "5  0.000057      1  "
            ],
            "text/html": [
              "\n",
              "  <div id=\"df-f2bcc50c-f00d-4a22-968a-8a1a32aca33f\">\n",
              "    <div class=\"colab-df-container\">\n",
              "      <div>\n",
              "<style scoped>\n",
              "    .dataframe tbody tr th:only-of-type {\n",
              "        vertical-align: middle;\n",
              "    }\n",
              "\n",
              "    .dataframe tbody tr th {\n",
              "        vertical-align: top;\n",
              "    }\n",
              "\n",
              "    .dataframe thead th {\n",
              "        text-align: right;\n",
              "    }\n",
              "</style>\n",
              "<table border=\"1\" class=\"dataframe\">\n",
              "  <thead>\n",
              "    <tr style=\"text-align: right;\">\n",
              "      <th></th>\n",
              "      <th>pos</th>\n",
              "      <th>g</th>\n",
              "      <th>fftg</th>\n",
              "      <th>fftv</th>\n",
              "      <th>F</th>\n",
              "      <th>C</th>\n",
              "      <th>NGV</th>\n",
              "      <th>NGA</th>\n",
              "      <th>New_F</th>\n",
              "    </tr>\n",
              "  </thead>\n",
              "  <tbody>\n",
              "    <tr>\n",
              "      <th>1</th>\n",
              "      <td>P1V</td>\n",
              "      <td>[-0.16512878645751894, 0.04998307178737588, -0...</td>\n",
              "      <td>[0.0006586228415304686, 0.0008392442605411405,...</td>\n",
              "      <td>[0.0, 0.0, 0.0, 0.0, 0.0, 0.0, 0.2966064382657...</td>\n",
              "      <td>Normal</td>\n",
              "      <td>None</td>\n",
              "      <td>0.002214</td>\n",
              "      <td>0.000112</td>\n",
              "      <td>1</td>\n",
              "    </tr>\n",
              "    <tr>\n",
              "      <th>2</th>\n",
              "      <td>P1H</td>\n",
              "      <td>[-0.042161579465260245, 0.021362479328271962, ...</td>\n",
              "      <td>[0.0006843542482240162, 0.0008895457854118105,...</td>\n",
              "      <td>[0.0, 0.0, 0.0, 0.0, 0.0, 0.0, 0.4527706580487...</td>\n",
              "      <td>Normal</td>\n",
              "      <td>None</td>\n",
              "      <td>0.002765</td>\n",
              "      <td>0.000108</td>\n",
              "      <td>1</td>\n",
              "    </tr>\n",
              "    <tr>\n",
              "      <th>3</th>\n",
              "      <td>P2V</td>\n",
              "      <td>[-0.1349568120102025, 0.23669171459765884, 0.0...</td>\n",
              "      <td>[0.0006736708035253035, 0.0008349143002841891,...</td>\n",
              "      <td>[0.0, 0.0, 0.0, 0.0, 0.0, 0.0, 0.3385470510031...</td>\n",
              "      <td>Normal</td>\n",
              "      <td>None</td>\n",
              "      <td>0.002061</td>\n",
              "      <td>0.000096</td>\n",
              "      <td>1</td>\n",
              "    </tr>\n",
              "    <tr>\n",
              "      <th>4</th>\n",
              "      <td>P2A</td>\n",
              "      <td>[0.12349800107774804, 0.25274141834206476, 0.2...</td>\n",
              "      <td>[0.0008922086829811786, 0.0012222498163517285,...</td>\n",
              "      <td>[0.0, 0.0, 0.0, 0.0, 0.0, 0.0, 0.5506433760599...</td>\n",
              "      <td>Normal</td>\n",
              "      <td>None</td>\n",
              "      <td>0.002520</td>\n",
              "      <td>0.000127</td>\n",
              "      <td>1</td>\n",
              "    </tr>\n",
              "    <tr>\n",
              "      <th>5</th>\n",
              "      <td>P1V</td>\n",
              "      <td>[0.021572814759439424, 0.08107507627351192, 0....</td>\n",
              "      <td>[0.0003683865447006467, 0.00046141507219113866...</td>\n",
              "      <td>[0.0, 0.0, 0.0, 0.0, 0.0, 0.0, 0.2025792082014...</td>\n",
              "      <td>Normal</td>\n",
              "      <td>None</td>\n",
              "      <td>0.001084</td>\n",
              "      <td>0.000057</td>\n",
              "      <td>1</td>\n",
              "    </tr>\n",
              "  </tbody>\n",
              "</table>\n",
              "</div>\n",
              "      <button class=\"colab-df-convert\" onclick=\"convertToInteractive('df-f2bcc50c-f00d-4a22-968a-8a1a32aca33f')\"\n",
              "              title=\"Convert this dataframe to an interactive table.\"\n",
              "              style=\"display:none;\">\n",
              "        \n",
              "  <svg xmlns=\"http://www.w3.org/2000/svg\" height=\"24px\"viewBox=\"0 0 24 24\"\n",
              "       width=\"24px\">\n",
              "    <path d=\"M0 0h24v24H0V0z\" fill=\"none\"/>\n",
              "    <path d=\"M18.56 5.44l.94 2.06.94-2.06 2.06-.94-2.06-.94-.94-2.06-.94 2.06-2.06.94zm-11 1L8.5 8.5l.94-2.06 2.06-.94-2.06-.94L8.5 2.5l-.94 2.06-2.06.94zm10 10l.94 2.06.94-2.06 2.06-.94-2.06-.94-.94-2.06-.94 2.06-2.06.94z\"/><path d=\"M17.41 7.96l-1.37-1.37c-.4-.4-.92-.59-1.43-.59-.52 0-1.04.2-1.43.59L10.3 9.45l-7.72 7.72c-.78.78-.78 2.05 0 2.83L4 21.41c.39.39.9.59 1.41.59.51 0 1.02-.2 1.41-.59l7.78-7.78 2.81-2.81c.8-.78.8-2.07 0-2.86zM5.41 20L4 18.59l7.72-7.72 1.47 1.35L5.41 20z\"/>\n",
              "  </svg>\n",
              "      </button>\n",
              "      \n",
              "  <style>\n",
              "    .colab-df-container {\n",
              "      display:flex;\n",
              "      flex-wrap:wrap;\n",
              "      gap: 12px;\n",
              "    }\n",
              "\n",
              "    .colab-df-convert {\n",
              "      background-color: #E8F0FE;\n",
              "      border: none;\n",
              "      border-radius: 50%;\n",
              "      cursor: pointer;\n",
              "      display: none;\n",
              "      fill: #1967D2;\n",
              "      height: 32px;\n",
              "      padding: 0 0 0 0;\n",
              "      width: 32px;\n",
              "    }\n",
              "\n",
              "    .colab-df-convert:hover {\n",
              "      background-color: #E2EBFA;\n",
              "      box-shadow: 0px 1px 2px rgba(60, 64, 67, 0.3), 0px 1px 3px 1px rgba(60, 64, 67, 0.15);\n",
              "      fill: #174EA6;\n",
              "    }\n",
              "\n",
              "    [theme=dark] .colab-df-convert {\n",
              "      background-color: #3B4455;\n",
              "      fill: #D2E3FC;\n",
              "    }\n",
              "\n",
              "    [theme=dark] .colab-df-convert:hover {\n",
              "      background-color: #434B5C;\n",
              "      box-shadow: 0px 1px 3px 1px rgba(0, 0, 0, 0.15);\n",
              "      filter: drop-shadow(0px 1px 2px rgba(0, 0, 0, 0.3));\n",
              "      fill: #FFFFFF;\n",
              "    }\n",
              "  </style>\n",
              "\n",
              "      <script>\n",
              "        const buttonEl =\n",
              "          document.querySelector('#df-f2bcc50c-f00d-4a22-968a-8a1a32aca33f button.colab-df-convert');\n",
              "        buttonEl.style.display =\n",
              "          google.colab.kernel.accessAllowed ? 'block' : 'none';\n",
              "\n",
              "        async function convertToInteractive(key) {\n",
              "          const element = document.querySelector('#df-f2bcc50c-f00d-4a22-968a-8a1a32aca33f');\n",
              "          const dataTable =\n",
              "            await google.colab.kernel.invokeFunction('convertToInteractive',\n",
              "                                                     [key], {});\n",
              "          if (!dataTable) return;\n",
              "\n",
              "          const docLinkHtml = 'Like what you see? Visit the ' +\n",
              "            '<a target=\"_blank\" href=https://colab.research.google.com/notebooks/data_table.ipynb>data table notebook</a>'\n",
              "            + ' to learn more about interactive tables.';\n",
              "          element.innerHTML = '';\n",
              "          dataTable['output_type'] = 'display_data';\n",
              "          await google.colab.output.renderOutput(dataTable, element);\n",
              "          const docLink = document.createElement('div');\n",
              "          docLink.innerHTML = docLinkHtml;\n",
              "          element.appendChild(docLink);\n",
              "        }\n",
              "      </script>\n",
              "    </div>\n",
              "  </div>\n",
              "  "
            ]
          },
          "metadata": {},
          "execution_count": 21
        }
      ]
    },
    {
      "cell_type": "code",
      "source": [
        "y = file['New_F'].values"
      ],
      "metadata": {
        "id": "HIEOAFvACg6s"
      },
      "execution_count": 22,
      "outputs": []
    },
    {
      "cell_type": "markdown",
      "source": [
        "**Normalize** **Data**"
      ],
      "metadata": {
        "id": "RCAzPnVWCm8U"
      }
    },
    {
      "cell_type": "code",
      "source": [
        "from sklearn import preprocessing\n",
        "X = preprocessing.StandardScaler().fit(X).transform(X.astype(float))\n",
        "X[0:5]"
      ],
      "metadata": {
        "colab": {
          "base_uri": "https://localhost:8080/"
        },
        "id": "ETYXY2KICko9",
        "outputId": "152afca7-e0c0-47ed-b52e-c0a00d418b1b"
      },
      "execution_count": 23,
      "outputs": [
        {
          "output_type": "execute_result",
          "data": {
            "text/plain": [
              "array([[-0.96812392, -0.3833068 ],\n",
              "       [-0.83371241, -0.40039589],\n",
              "       [-1.0054341 , -0.44770939],\n",
              "       [-0.89330044, -0.31739545],\n",
              "       [-1.24388915, -0.61711308]])"
            ]
          },
          "metadata": {},
          "execution_count": 23
        }
      ]
    },
    {
      "cell_type": "markdown",
      "source": [
        "**Train Test Split**"
      ],
      "metadata": {
        "id": "UvD5DDjXDGZd"
      }
    },
    {
      "cell_type": "code",
      "source": [
        "from sklearn.model_selection import train_test_split\n",
        "X_train, X_test, y_train, y_test = train_test_split( X, y, test_size=0.2, random_state=4)\n",
        "print ('Train set:', X_train.shape,  y_train.shape)\n",
        "print ('Test set:', X_test.shape,  y_test.shape)"
      ],
      "metadata": {
        "colab": {
          "base_uri": "https://localhost:8080/"
        },
        "id": "N6YE8xwPDHqN",
        "outputId": "019f97bf-115b-4960-88df-a2ad0cd08a4e"
      },
      "execution_count": 24,
      "outputs": [
        {
          "output_type": "stream",
          "name": "stdout",
          "text": [
            "Train set: (816, 2) (816,)\n",
            "Test set: (204, 2) (204,)\n"
          ]
        }
      ]
    },
    {
      "cell_type": "markdown",
      "source": [
        "**KNN implementation**"
      ],
      "metadata": {
        "id": "oDqrJmpQDp-t"
      }
    },
    {
      "cell_type": "code",
      "source": [
        "from sklearn.neighbors import KNeighborsClassifier"
      ],
      "metadata": {
        "id": "WjnP8KiMDwk0"
      },
      "execution_count": 25,
      "outputs": []
    },
    {
      "cell_type": "code",
      "source": [
        "k = 3\n",
        "#Train Model and Predict  \n",
        "neigh = KNeighborsClassifier(n_neighbors = k).fit(X_train,y_train)\n",
        "neigh"
      ],
      "metadata": {
        "colab": {
          "base_uri": "https://localhost:8080/"
        },
        "id": "2qUEkwFWD7B8",
        "outputId": "554bceb3-8917-4d13-c348-26c8f248aae8"
      },
      "execution_count": 26,
      "outputs": [
        {
          "output_type": "execute_result",
          "data": {
            "text/plain": [
              "KNeighborsClassifier(n_neighbors=3)"
            ]
          },
          "metadata": {},
          "execution_count": 26
        }
      ]
    },
    {
      "cell_type": "markdown",
      "source": [
        "**Predicting**"
      ],
      "metadata": {
        "id": "OMfjA0gAEL4E"
      }
    },
    {
      "cell_type": "code",
      "source": [
        "yhat = neigh.predict(X_test)\n",
        "print(yhat[0:30])\n",
        "print(y_test[0:30])"
      ],
      "metadata": {
        "colab": {
          "base_uri": "https://localhost:8080/"
        },
        "id": "SD258didEOIu",
        "outputId": "2241d821-7c26-45fc-a513-13ece49df98d"
      },
      "execution_count": 27,
      "outputs": [
        {
          "output_type": "stream",
          "name": "stdout",
          "text": [
            "[1 5 4 1 1 3 1 6 1 5 1 1 1 1 1 6 5 1 6 7 1 7 1 7 1 1 1 6 1 5]\n",
            "[1 5 4 1 1 3 1 6 1 2 1 1 1 1 1 6 5 1 6 7 1 4 1 7 1 1 1 6 1 5]\n"
          ]
        }
      ]
    },
    {
      "cell_type": "code",
      "source": [
        "file['Pred_F'] = neigh.predict(X)\n",
        "dct = {v: k for k, v in dic.items()}\n",
        "file['Pred_F'] = file['Pred_F'].apply(lambda x: dct[x])\n",
        "file.head()"
      ],
      "metadata": {
        "colab": {
          "base_uri": "https://localhost:8080/",
          "height": 337
        },
        "id": "JvduBeXNHPzr",
        "outputId": "6c53d24a-4a5d-4221-8dfb-97b6d66090a1"
      },
      "execution_count": 28,
      "outputs": [
        {
          "output_type": "execute_result",
          "data": {
            "text/plain": [
              "   pos                                                  g  \\\n",
              "1  P1V  [-0.16512878645751894, 0.04998307178737588, -0...   \n",
              "2  P1H  [-0.042161579465260245, 0.021362479328271962, ...   \n",
              "3  P2V  [-0.1349568120102025, 0.23669171459765884, 0.0...   \n",
              "4  P2A  [0.12349800107774804, 0.25274141834206476, 0.2...   \n",
              "5  P1V  [0.021572814759439424, 0.08107507627351192, 0....   \n",
              "\n",
              "                                                fftg  \\\n",
              "1  [0.0006586228415304686, 0.0008392442605411405,...   \n",
              "2  [0.0006843542482240162, 0.0008895457854118105,...   \n",
              "3  [0.0006736708035253035, 0.0008349143002841891,...   \n",
              "4  [0.0008922086829811786, 0.0012222498163517285,...   \n",
              "5  [0.0003683865447006467, 0.00046141507219113866...   \n",
              "\n",
              "                                                fftv       F     C       NGV  \\\n",
              "1  [0.0, 0.0, 0.0, 0.0, 0.0, 0.0, 0.2966064382657...  Normal  None  0.002214   \n",
              "2  [0.0, 0.0, 0.0, 0.0, 0.0, 0.0, 0.4527706580487...  Normal  None  0.002765   \n",
              "3  [0.0, 0.0, 0.0, 0.0, 0.0, 0.0, 0.3385470510031...  Normal  None  0.002061   \n",
              "4  [0.0, 0.0, 0.0, 0.0, 0.0, 0.0, 0.5506433760599...  Normal  None  0.002520   \n",
              "5  [0.0, 0.0, 0.0, 0.0, 0.0, 0.0, 0.2025792082014...  Normal  None  0.001084   \n",
              "\n",
              "        NGA  New_F  Pred_F  \n",
              "1  0.000112      1  Normal  \n",
              "2  0.000108      1  Normal  \n",
              "3  0.000096      1  Normal  \n",
              "4  0.000127      1  Normal  \n",
              "5  0.000057      1  Normal  "
            ],
            "text/html": [
              "\n",
              "  <div id=\"df-c58de039-1a3e-4972-9e5a-950f2f991148\">\n",
              "    <div class=\"colab-df-container\">\n",
              "      <div>\n",
              "<style scoped>\n",
              "    .dataframe tbody tr th:only-of-type {\n",
              "        vertical-align: middle;\n",
              "    }\n",
              "\n",
              "    .dataframe tbody tr th {\n",
              "        vertical-align: top;\n",
              "    }\n",
              "\n",
              "    .dataframe thead th {\n",
              "        text-align: right;\n",
              "    }\n",
              "</style>\n",
              "<table border=\"1\" class=\"dataframe\">\n",
              "  <thead>\n",
              "    <tr style=\"text-align: right;\">\n",
              "      <th></th>\n",
              "      <th>pos</th>\n",
              "      <th>g</th>\n",
              "      <th>fftg</th>\n",
              "      <th>fftv</th>\n",
              "      <th>F</th>\n",
              "      <th>C</th>\n",
              "      <th>NGV</th>\n",
              "      <th>NGA</th>\n",
              "      <th>New_F</th>\n",
              "      <th>Pred_F</th>\n",
              "    </tr>\n",
              "  </thead>\n",
              "  <tbody>\n",
              "    <tr>\n",
              "      <th>1</th>\n",
              "      <td>P1V</td>\n",
              "      <td>[-0.16512878645751894, 0.04998307178737588, -0...</td>\n",
              "      <td>[0.0006586228415304686, 0.0008392442605411405,...</td>\n",
              "      <td>[0.0, 0.0, 0.0, 0.0, 0.0, 0.0, 0.2966064382657...</td>\n",
              "      <td>Normal</td>\n",
              "      <td>None</td>\n",
              "      <td>0.002214</td>\n",
              "      <td>0.000112</td>\n",
              "      <td>1</td>\n",
              "      <td>Normal</td>\n",
              "    </tr>\n",
              "    <tr>\n",
              "      <th>2</th>\n",
              "      <td>P1H</td>\n",
              "      <td>[-0.042161579465260245, 0.021362479328271962, ...</td>\n",
              "      <td>[0.0006843542482240162, 0.0008895457854118105,...</td>\n",
              "      <td>[0.0, 0.0, 0.0, 0.0, 0.0, 0.0, 0.4527706580487...</td>\n",
              "      <td>Normal</td>\n",
              "      <td>None</td>\n",
              "      <td>0.002765</td>\n",
              "      <td>0.000108</td>\n",
              "      <td>1</td>\n",
              "      <td>Normal</td>\n",
              "    </tr>\n",
              "    <tr>\n",
              "      <th>3</th>\n",
              "      <td>P2V</td>\n",
              "      <td>[-0.1349568120102025, 0.23669171459765884, 0.0...</td>\n",
              "      <td>[0.0006736708035253035, 0.0008349143002841891,...</td>\n",
              "      <td>[0.0, 0.0, 0.0, 0.0, 0.0, 0.0, 0.3385470510031...</td>\n",
              "      <td>Normal</td>\n",
              "      <td>None</td>\n",
              "      <td>0.002061</td>\n",
              "      <td>0.000096</td>\n",
              "      <td>1</td>\n",
              "      <td>Normal</td>\n",
              "    </tr>\n",
              "    <tr>\n",
              "      <th>4</th>\n",
              "      <td>P2A</td>\n",
              "      <td>[0.12349800107774804, 0.25274141834206476, 0.2...</td>\n",
              "      <td>[0.0008922086829811786, 0.0012222498163517285,...</td>\n",
              "      <td>[0.0, 0.0, 0.0, 0.0, 0.0, 0.0, 0.5506433760599...</td>\n",
              "      <td>Normal</td>\n",
              "      <td>None</td>\n",
              "      <td>0.002520</td>\n",
              "      <td>0.000127</td>\n",
              "      <td>1</td>\n",
              "      <td>Normal</td>\n",
              "    </tr>\n",
              "    <tr>\n",
              "      <th>5</th>\n",
              "      <td>P1V</td>\n",
              "      <td>[0.021572814759439424, 0.08107507627351192, 0....</td>\n",
              "      <td>[0.0003683865447006467, 0.00046141507219113866...</td>\n",
              "      <td>[0.0, 0.0, 0.0, 0.0, 0.0, 0.0, 0.2025792082014...</td>\n",
              "      <td>Normal</td>\n",
              "      <td>None</td>\n",
              "      <td>0.001084</td>\n",
              "      <td>0.000057</td>\n",
              "      <td>1</td>\n",
              "      <td>Normal</td>\n",
              "    </tr>\n",
              "  </tbody>\n",
              "</table>\n",
              "</div>\n",
              "      <button class=\"colab-df-convert\" onclick=\"convertToInteractive('df-c58de039-1a3e-4972-9e5a-950f2f991148')\"\n",
              "              title=\"Convert this dataframe to an interactive table.\"\n",
              "              style=\"display:none;\">\n",
              "        \n",
              "  <svg xmlns=\"http://www.w3.org/2000/svg\" height=\"24px\"viewBox=\"0 0 24 24\"\n",
              "       width=\"24px\">\n",
              "    <path d=\"M0 0h24v24H0V0z\" fill=\"none\"/>\n",
              "    <path d=\"M18.56 5.44l.94 2.06.94-2.06 2.06-.94-2.06-.94-.94-2.06-.94 2.06-2.06.94zm-11 1L8.5 8.5l.94-2.06 2.06-.94-2.06-.94L8.5 2.5l-.94 2.06-2.06.94zm10 10l.94 2.06.94-2.06 2.06-.94-2.06-.94-.94-2.06-.94 2.06-2.06.94z\"/><path d=\"M17.41 7.96l-1.37-1.37c-.4-.4-.92-.59-1.43-.59-.52 0-1.04.2-1.43.59L10.3 9.45l-7.72 7.72c-.78.78-.78 2.05 0 2.83L4 21.41c.39.39.9.59 1.41.59.51 0 1.02-.2 1.41-.59l7.78-7.78 2.81-2.81c.8-.78.8-2.07 0-2.86zM5.41 20L4 18.59l7.72-7.72 1.47 1.35L5.41 20z\"/>\n",
              "  </svg>\n",
              "      </button>\n",
              "      \n",
              "  <style>\n",
              "    .colab-df-container {\n",
              "      display:flex;\n",
              "      flex-wrap:wrap;\n",
              "      gap: 12px;\n",
              "    }\n",
              "\n",
              "    .colab-df-convert {\n",
              "      background-color: #E8F0FE;\n",
              "      border: none;\n",
              "      border-radius: 50%;\n",
              "      cursor: pointer;\n",
              "      display: none;\n",
              "      fill: #1967D2;\n",
              "      height: 32px;\n",
              "      padding: 0 0 0 0;\n",
              "      width: 32px;\n",
              "    }\n",
              "\n",
              "    .colab-df-convert:hover {\n",
              "      background-color: #E2EBFA;\n",
              "      box-shadow: 0px 1px 2px rgba(60, 64, 67, 0.3), 0px 1px 3px 1px rgba(60, 64, 67, 0.15);\n",
              "      fill: #174EA6;\n",
              "    }\n",
              "\n",
              "    [theme=dark] .colab-df-convert {\n",
              "      background-color: #3B4455;\n",
              "      fill: #D2E3FC;\n",
              "    }\n",
              "\n",
              "    [theme=dark] .colab-df-convert:hover {\n",
              "      background-color: #434B5C;\n",
              "      box-shadow: 0px 1px 3px 1px rgba(0, 0, 0, 0.15);\n",
              "      filter: drop-shadow(0px 1px 2px rgba(0, 0, 0, 0.3));\n",
              "      fill: #FFFFFF;\n",
              "    }\n",
              "  </style>\n",
              "\n",
              "      <script>\n",
              "        const buttonEl =\n",
              "          document.querySelector('#df-c58de039-1a3e-4972-9e5a-950f2f991148 button.colab-df-convert');\n",
              "        buttonEl.style.display =\n",
              "          google.colab.kernel.accessAllowed ? 'block' : 'none';\n",
              "\n",
              "        async function convertToInteractive(key) {\n",
              "          const element = document.querySelector('#df-c58de039-1a3e-4972-9e5a-950f2f991148');\n",
              "          const dataTable =\n",
              "            await google.colab.kernel.invokeFunction('convertToInteractive',\n",
              "                                                     [key], {});\n",
              "          if (!dataTable) return;\n",
              "\n",
              "          const docLinkHtml = 'Like what you see? Visit the ' +\n",
              "            '<a target=\"_blank\" href=https://colab.research.google.com/notebooks/data_table.ipynb>data table notebook</a>'\n",
              "            + ' to learn more about interactive tables.';\n",
              "          element.innerHTML = '';\n",
              "          dataTable['output_type'] = 'display_data';\n",
              "          await google.colab.output.renderOutput(dataTable, element);\n",
              "          const docLink = document.createElement('div');\n",
              "          docLink.innerHTML = docLinkHtml;\n",
              "          element.appendChild(docLink);\n",
              "        }\n",
              "      </script>\n",
              "    </div>\n",
              "  </div>\n",
              "  "
            ]
          },
          "metadata": {},
          "execution_count": 28
        }
      ]
    },
    {
      "cell_type": "markdown",
      "source": [
        "**Accuracy evaluation**"
      ],
      "metadata": {
        "id": "Jkja2l9YEVod"
      }
    },
    {
      "cell_type": "code",
      "source": [
        "from sklearn import metrics\n",
        "print(\"Train set Accuracy: \", metrics.accuracy_score(y_train, neigh.predict(X_train)))\n",
        "print(\"Test set Accuracy: \", metrics.accuracy_score(y_test, yhat))"
      ],
      "metadata": {
        "colab": {
          "base_uri": "https://localhost:8080/"
        },
        "id": "ObBovYUXEXns",
        "outputId": "67cfe2c4-3db5-46a0-9989-7437f1df84fc"
      },
      "execution_count": 29,
      "outputs": [
        {
          "output_type": "stream",
          "name": "stdout",
          "text": [
            "Train set Accuracy:  0.9473039215686274\n",
            "Test set Accuracy:  0.9362745098039216\n"
          ]
        }
      ]
    },
    {
      "cell_type": "markdown",
      "source": [
        "## Here is how i choosed the k: "
      ],
      "metadata": {
        "id": "9j-W8hjiEkMD"
      }
    },
    {
      "cell_type": "markdown",
      "source": [
        "We can calculate the accuracy of KNN for different values of k."
      ],
      "metadata": {
        "id": "Tf1aHmznErmE"
      }
    },
    {
      "cell_type": "code",
      "source": [
        "Ks = 10\n",
        "mean_acc = np.zeros((Ks-1))\n",
        "std_acc = np.zeros((Ks-1))\n",
        "\n",
        "for n in range(1,Ks):\n",
        "    #Train Model and Predict  \n",
        "    neigh = KNeighborsClassifier(n_neighbors = n).fit(X_train,y_train)\n",
        "    yhat=neigh.predict(X_test)\n",
        "    mean_acc[n-1] = metrics.accuracy_score(y_test, yhat)\n",
        "    std_acc[n-1]=np.std(yhat==y_test)/np.sqrt(yhat.shape[0])\n",
        "\n",
        "mean_acc"
      ],
      "metadata": {
        "colab": {
          "base_uri": "https://localhost:8080/"
        },
        "id": "2nOSEjlBEnsL",
        "outputId": "94a15486-8f0b-4db3-b328-d61dadb13ba4"
      },
      "execution_count": 30,
      "outputs": [
        {
          "output_type": "execute_result",
          "data": {
            "text/plain": [
              "array([0.89705882, 0.89705882, 0.93627451, 0.93627451, 0.93137255,\n",
              "       0.91176471, 0.92156863, 0.91666667, 0.92156863])"
            ]
          },
          "metadata": {},
          "execution_count": 30
        }
      ]
    },
    {
      "cell_type": "markdown",
      "source": [
        "Plot the model accuracy for a different number of neighbors."
      ],
      "metadata": {
        "id": "u6yIJPijE6x1"
      }
    },
    {
      "cell_type": "code",
      "source": [
        "plt.plot(range(1,Ks),mean_acc,'g')\n",
        "plt.fill_between(range(1,Ks),mean_acc - 1 * std_acc,mean_acc + 1 * std_acc, alpha=0.10)\n",
        "plt.fill_between(range(1,Ks),mean_acc - 3 * std_acc,mean_acc + 3 * std_acc, alpha=0.10,color=\"green\")\n",
        "plt.legend(('Accuracy ', '+/- 1xstd','+/- 3xstd'))\n",
        "plt.ylabel('Accuracy ')\n",
        "plt.xlabel('Number of Neighbors (K)')\n",
        "plt.tight_layout()\n",
        "plt.show()"
      ],
      "metadata": {
        "colab": {
          "base_uri": "https://localhost:8080/",
          "height": 297
        },
        "id": "Y4v9CL4uE4BE",
        "outputId": "98bab936-1904-4e5e-d714-0f2d12abadac"
      },
      "execution_count": 31,
      "outputs": [
        {
          "output_type": "display_data",
          "data": {
            "text/plain": [
              "<Figure size 432x288 with 1 Axes>"
            ],
            "image/png": "[encoded data removed]"
          },
          "metadata": {
            "needs_background": "light"
          }
        }
      ]
    },
    {
      "cell_type": "code",
      "source": [
        "print( \"The best accuracy was with\", mean_acc.max(), \"with k=\", mean_acc.argmax()+1) "
      ],
      "metadata": {
        "colab": {
          "base_uri": "https://localhost:8080/"
        },
        "id": "3Hn8pm9sE_YV",
        "outputId": "c480ee85-5a00-4100-ea22-657d7128b1fd"
      },
      "execution_count": null,
      "outputs": [
        {
          "output_type": "stream",
          "name": "stdout",
          "text": [
            "The best accuracy was with 0.9362745098039216 with k= 3\n"
          ]
        }
      ]
    }
  ]
}